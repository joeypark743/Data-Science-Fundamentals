{
 "cells": [
  {
   "attachments": {},
   "cell_type": "markdown",
   "metadata": {},
   "source": [
    "# Worksheet 08\n",
    "\n",
    "Name:  Sungjun Park  \n",
    "UID: U24688282\n",
    "\n",
    "### Topics\n",
    "\n",
    "- Soft Clustering\n",
    "- Clustering Aggregation\n",
    "\n",
    "### Probability Review\n",
    "\n",
    "Read through [the following](https://medium.com/@gallettilance/overview-of-probability-3272b72c82c8)\n",
    "\n",
    "### Soft Clustering\n",
    "\n",
    "We generate 10 data points that come from a normal distribution with mean 5 and variance 1."
   ]
  },
  {
   "cell_type": "code",
   "execution_count": 2,
   "metadata": {},
   "outputs": [
    {
     "name": "stdout",
     "output_type": "stream",
     "text": [
      "[4.644731379209382, 2.604177479472395, 4.704088128195891, 4.782775911671455, 4.94710791914487, 5.387393660389889, 4.7169103306029765, 7.1991922038436975, 3.9275862055429176, 4.225675103785978]\n"
     ]
    }
   ],
   "source": [
    "import random\n",
    "import numpy as np\n",
    "from sklearn.cluster import KMeans\n",
    "\n",
    "mean = 5\n",
    "stdev = 1\n",
    "\n",
    "s1 = np.random.normal(mean, stdev, 10).tolist()\n",
    "print(s1)"
   ]
  },
  {
   "cell_type": "markdown",
   "metadata": {},
   "source": [
    "a) Generate 10 more data points, this time coming from a normal distribution with mean 8 and variance 1."
   ]
  },
  {
   "cell_type": "code",
   "execution_count": 3,
   "metadata": {},
   "outputs": [
    {
     "name": "stdout",
     "output_type": "stream",
     "text": [
      "[7.963682829014255, 8.72514257158273, 7.73593920580918, 6.58091471302288, 6.795273939576605, 8.414848927644528, 8.255927747743302, 5.681175454963059, 9.770144563021795, 7.03436669521354]\n"
     ]
    }
   ],
   "source": [
<<<<<<< HEAD
    "\n",
    "c2 = np.random.normal(8, 1, 10).tolist()\n",
    "print(c2)"
=======
    "s2 = np.random.normal( ... , ... , ... ).tolist()\n",
    "print(s2)"
>>>>>>> a77c54ccf8c7aab26abde14c4b3abddcf28d0d53
   ]
  },
  {
   "cell_type": "markdown",
   "metadata": {},
   "source": [
    "b) Flip a fair coin 10 times. If the coin lands on H, then pick the last data point of `c1` and remove it from `c1`, if T then pick the last data point from `c2` and remove it from `c2`. Add these 10 points to a list called `data`."
   ]
  },
  {
   "cell_type": "code",
   "execution_count": 4,
   "metadata": {},
   "outputs": [
    {
     "name": "stdout",
     "output_type": "stream",
     "text": [
      "[7.03436669521354, 9.770144563021795, 4.225675103785978, 3.9275862055429176, 7.1991922038436975, 4.7169103306029765, 5.387393660389889, 5.681175454963059, 4.94710791914487, 8.255927747743302]\n"
     ]
    }
   ],
   "source": [
    "data = []\n",
    "for i in range(10):\n",
    "    # flip coin\n",
    "    coin_output = random.choice([0, 1])\n",
    "    if coin_output == 0:\n",
    "        p1 = c1.pop()\n",
    "        data.append(p1)\n",
    "    else:\n",
    "        p2 = c2.pop()\n",
    "        data.append(p2)\n",
    "print(data)"
   ]
  },
  {
   "cell_type": "markdown",
   "metadata": {},
   "source": [
    "c) This `data` is a Gaussian Mixture Distribution with 2 mixture components. Over the next few questions we will walk through the GMM algorithm to see if we can uncover the parameters we used to generate this data. First, please list all these parameters of the GMM that created `data` and the values we know they have."
   ]
  },
  {
   "cell_type": "markdown",
   "metadata": {},
   "source": [
    "Mean and variance  \n",
    "c1: 5, 1  \n",
    "c2: 8, 1"
   ]
  },
  {
   "cell_type": "markdown",
   "metadata": {},
   "source": [
    "d) Let's assume there are two mixture components (note: we could plot the data and make the observation that there are two clusters). The EM algorithm asks us to start with a random `mean_j`, `variance_j`, `P(S_j)` for each component j. One method we could use to find sensible values for these is to apply K means with k=2 here.\n",
    "\n",
    "1. the centroids would be the estimates of the `mean_j`\n",
    "2. the intra-cluster variance could be the estimate of `variance_j`\n",
    "3. the proportion of points in each cluster could be the estimate of `P(S_j)`\n",
    "\n",
    "Go through this process and list the parameter estimates it gives. Are they close or far from the true values?"
   ]
  },
  {
   "cell_type": "code",
   "execution_count": 5,
   "metadata": {},
   "outputs": [
    {
     "name": "stdout",
     "output_type": "stream",
     "text": [
      "[4.225675103785978, 3.9275862055429176, 4.7169103306029765, 5.387393660389889, 5.681175454963059, 4.94710791914487]\n",
      "[7.03436669521354, 9.770144563021795, 7.1991922038436975, 8.255927747743302]\n",
      "P(C_1) = 0.6,  P(C_2) = 0.4\n",
      "mean_1 = 4.814308112404948,  mean_2 = 8.064907802455584\n",
      "var_1 = 0.37329545173632034,  var_2 = 11.755348220077202\n"
     ]
    }
   ],
   "source": [
    "kmeans = KMeans(2, init='k-means++').fit(X=np.array(data).reshape(-1, 1))\n",
    "\n",
<<<<<<< HEAD
    "c1 = [x[0] for x in filter(lambda x: x[1] == 0, zip(data, kmeans.labels_))]\n",
    "print(c1)\n",
    "c2 = [x[0] for x in filter(lambda x: x[1] == 1, zip(data, kmeans.labels_))]\n",
    "print(c2)\n",
    "\n",
    "prob_c = [ len(c1) / (len(c1) + len(c2)) , len(c2) / (len(c1) + len(c2)) ]\n",
    "mean = [ sum(c1)/len(c1) , sum(c2)/len(c2) ]\n",
    "\n",
    "var = [ sum(map(lambda x : (x - mean[0])**2, c1)) / len(c1) , sum(map(lambda x : (x - mean[0])**2, c2)) / len(c2) ]\n",
=======
    "s1 = [x[0] for x in filter(lambda x: x[1] == 0, zip(data, kmeans.labels_))]\n",
    "print(s1)\n",
    "s2 = ...\n",
    "print(s2)\n",
    "\n",
    "prob_s = [ len(s1) / (len(s1) + len(s2)) , ... ]\n",
    "mean = [ sum(s1)/len(s1) , ... ]\n",
    "var = [ sum(map(lambda x : (x - mean[0])**2, s1)) / len(s1) , ... ]\n",
>>>>>>> a77c54ccf8c7aab26abde14c4b3abddcf28d0d53
    "\n",
    "print(\"P(S_1) = \" + str(prob_s[0]) + \",  P(S_2) = \" + str(prob_s[1]))\n",
    "print(\"mean_1 = \" + str(mean[0]) + \",  mean_2 = \" + str(mean[1]))\n",
    "print(\"var_1 = \" + str(var[0]) + \",  var_2 = \" + str(var[1]))"
   ]
  },
  {
   "cell_type": "markdown",
   "metadata": {},
   "source": []
  },
  {
   "cell_type": "markdown",
   "metadata": {},
   "source": [
    "e) For each data point, compute `P(S_j | X_i)`. Comment on which cluster you think each point belongs to based on the estimated probabilities. How does that compare to the truth?"
   ]
  },
  {
   "cell_type": "code",
   "execution_count": 6,
   "metadata": {},
   "outputs": [
    {
     "name": "stdout",
     "output_type": "stream",
     "text": [
      "point =  7.03436669521354\n",
      "probability of observing that point if it came from cluster 0 =  2.2313329216311835e-08\n",
      "probability of observing that point if it came from cluster 1 =  0.03380692967805919\n",
      "point =  9.770144563021795\n",
      "probability of observing that point if it came from cluster 0 =  5.7109487564191744e-39\n",
      "probability of observing that point if it came from cluster 1 =  0.03358189780160805\n",
      "point =  4.225675103785978\n",
      "probability of observing that point if it came from cluster 0 =  0.3082666311974018\n",
      "probability of observing that point if it came from cluster 1 =  0.03217457164206774\n",
      "point =  3.9275862055429176\n",
      "probability of observing that point if it came from cluster 0 =  0.06362238608691899\n",
      "probability of observing that point if it came from cluster 1 =  0.03189895458805173\n",
      "point =  7.1991922038436975\n",
      "probability of observing that point if it came from cluster 0 =  1.464879176594961e-09\n",
      "probability of observing that point if it came from cluster 1 =  0.033845183240400784\n",
      "point =  4.7169103306029765\n",
      "probability of observing that point if it came from cluster 0 =  1.032939524968634\n",
      "probability of observing that point if it came from cluster 1 =  0.0325882280696647\n",
      "point =  5.387393660389889\n",
      "probability of observing that point if it came from cluster 0 =  0.3289061836728972\n",
      "probability of observing that point if it came from cluster 1 =  0.03306809380507331\n",
      "point =  5.681175454963059\n",
      "probability of observing that point if it came from cluster 0 =  0.07208827381813926\n",
      "probability of observing that point if it came from cluster 1 =  0.03324647920642595\n",
      "point =  4.94710791914487\n",
      "probability of observing that point if it came from cluster 0 =  1.003172582494009\n",
      "probability of observing that point if it came from cluster 1 =  0.03276420371790265\n",
      "point =  8.255927747743302\n",
      "probability of observing that point if it came from cluster 0 =  3.726332296757017e-19\n",
      "probability of observing that point if it came from cluster 1 =  0.03393260718643195\n",
      "7.03436669521354\n",
      "Probability of coming from C_1 = 9.900325467830531e-07\n",
      "Probability of coming from C_2 = 0.9999990099674532\n",
      "\n",
      "9.770144563021795\n",
      "Probability of coming from C_1 = 2.5509050099659835e-37\n",
      "Probability of coming from C_2 = 1.0\n",
      "\n",
      "4.225675103785978\n",
      "Probability of coming from C_1 = 0.9349449467318441\n",
      "Probability of coming from C_2 = 0.06505505326815593\n",
      "\n",
      "3.9275862055429176\n",
      "Probability of coming from C_1 = 0.7494830766613838\n",
      "Probability of coming from C_2 = 0.25051692333861614\n",
      "\n",
      "7.1991922038436975\n",
      "Probability of coming from C_1 = 6.492263926093277e-08\n",
      "Probability of coming from C_2 = 0.9999999350773607\n",
      "\n",
      "4.7169103306029765\n",
      "Probability of coming from C_1 = 0.979400582017413\n",
      "Probability of coming from C_2 = 0.020599417982587114\n",
      "\n",
      "5.387393660389889\n",
      "Probability of coming from C_1 = 0.9371839388819415\n",
      "Probability of coming from C_2 = 0.06281606111805853\n",
      "\n",
      "5.681175454963059\n",
      "Probability of coming from C_1 = 0.7648412770673734\n",
      "Probability of coming from C_2 = 0.23515872293262666\n",
      "\n",
      "4.94710791914487\n",
      "Probability of coming from C_1 = 0.9786902686546647\n",
      "Probability of coming from C_2 = 0.0213097313453353\n",
      "\n",
      "8.255927747743302\n",
      "Probability of coming from C_1 = 1.6472351842656233e-17\n",
      "Probability of coming from C_2 = 1.0\n",
      "\n"
     ]
    }
   ],
   "source": [
    "from scipy.stats import norm\n",
    "\n",
    "prob_s0_x = [] # P(S_0 | X_i)\n",
    "prob_s1_x = [] # P(S_1 | X_i)\n",
    "prob_x = [] # P(X_i)\n",
    "\n",
    "k = 2\n",
    "\n",
    "for p in data:\n",
    "    print(\"point = \", p)\n",
    "    pdf_i = []\n",
    "\n",
    "    for j in range(k):\n",
    "        # P(X_i | S_j)\n",
    "        pdf_i.append(norm.pdf(p, mean[j], var[j]))\n",
    "        print(\"probability of observing that point if it came from cluster \" + str(j) + \" = \", pdf_i[j])\n",
    "        # P(S_j) already computed\n",
    "        prob_s[j]\n",
    "\n",
    "    # P(X_i) = P(S_0)P(X_i | S_0) + P(S_1)P(X_i | S_1)\n",
    "    prob_x = prob_s[0] * pdf_i[0] + prob_s[1] * pdf_i[1]\n",
    "\n",
<<<<<<< HEAD
    "    # P(C_j | X_i) = P(X_i | C_j)P(C_j) / P(X_i)\n",
    "    prob_c0_x.append( pdf_i[0] * prob_c[0] / prob_x )\n",
    "    prob_c1_x.append( pdf_i[1] * prob_c[1] / prob_x )\n",
=======
    "    # P(S_j | X_i) = P(X_i | S_j)P(S_j) / P(X_i)\n",
    "    prob_s0_x.append( ... )\n",
    "    prob_s1_x.append( ... )\n",
>>>>>>> a77c54ccf8c7aab26abde14c4b3abddcf28d0d53
    "\n",
    "probs = zip(data, prob_s0_x, prob_s1_x)\n",
    "for p in probs:\n",
    "    print(p[0])\n",
    "    print(\"Probability of coming from S_1 = \" + str(p[1]))\n",
    "    print(\"Probability of coming from S_2 = \" + str(p[2]))\n",
    "    print()\n"
   ]
  },
  {
   "cell_type": "markdown",
   "metadata": {},
   "source": [
    "f) Having computed `P(S_j | X_i)`, update the estimates of `mean_j`, `var_j`, and `P(S_j)`. How different are these values from the original ones you got from K means? briefly comment."
   ]
  },
  {
   "cell_type": "code",
   "execution_count": 7,
   "metadata": {},
   "outputs": [
    {
     "name": "stdout",
     "output_type": "stream",
     "text": [
      "P(C_1) = 0.5344545144969807,  P(C_2) = 0.46554548550301933\n",
      "mean_1 = 4.8180054829575125,  mean_2 = 7.6030018922058655\n",
      "var_1 = 0.3409597566507591,  var_2 = 2.4131295952336926\n"
     ]
    }
   ],
   "source": [
<<<<<<< HEAD
    "prob_c = [sum(prob_c0_x)/ len(prob_c0_x), sum(prob_c1_x)/ len(prob_c1_x) ]\n",
    "mean = [sum([x[0] * x[1] for x in zip(prob_c0_x, data)]) / sum(prob_c0_x),   sum([x[0] * x[1] for x in zip(prob_c1_x, data)]) / sum(prob_c1_x) ]\n",
    "# Calculate the updated variances\n",
    "var = [sum(prob_c0_x[i] * (data[i] - mean[0]) ** 2 for i in range(len(data))) / sum(prob_c0_x),\n",
    "       sum(prob_c1_x[i] * (data[i] - mean[1]) ** 2 for i in range(len(data))) / sum(prob_c1_x)]\n",
=======
    "prob_c = [sum(prob_s0_x)/ len(prob_s0_x), ... ]\n",
    "mean = [sum([x[0] * x[1] for x in zip(prob_s0_x, data)]) / sum(prob_s0_x), ... ]\n",
    "var = [ ... , ... ]\n",
>>>>>>> a77c54ccf8c7aab26abde14c4b3abddcf28d0d53
    "\n",
    "print(\"P(S_1) = \" + str(prob_s[0]) + \",  P(S_2) = \" + str(prob_s[1]))\n",
    "print(\"mean_1 = \" + str(mean[0]) + \",  mean_2 = \" + str(mean[1]))\n",
    "print(\"var_1 = \" + str(var[0]) + \",  var_2 = \" + str(var[1]))"
   ]
  },
  {
   "cell_type": "markdown",
   "metadata": {},
   "source": []
  },
  {
   "cell_type": "markdown",
   "metadata": {},
   "source": [
    "g) Update `P(S_j | X_i)`. Comment on any differences or lack thereof you observe."
   ]
  },
  {
   "cell_type": "code",
   "execution_count": 8,
   "metadata": {},
   "outputs": [
    {
     "name": "stdout",
     "output_type": "stream",
     "text": [
      "Point =  7.03436669521354\n",
      "Updated Probability of coming from C_1 = 5.576942052992846e-09\n",
      "Updated Probability of coming from C_2 = 0.999999994423058\n",
      "\n",
      "Point =  9.770144563021795\n",
      "Updated Probability of coming from C_1 = 1.8956584079051233e-45\n",
      "Updated Probability of coming from C_2 = 1.0\n",
      "\n",
      "Point =  4.225675103785978\n",
      "Updated Probability of coming from C_1 = 0.8271170676048204\n",
      "Updated Probability of coming from C_2 = 0.17288293239517963\n",
      "\n",
      "Point =  3.9275862055429176\n",
      "Updated Probability of coming from C_1 = 0.46129432624025746\n",
      "Updated Probability of coming from C_2 = 0.5387056737597427\n",
      "\n",
      "Point =  7.1991922038436975\n",
      "Updated Probability of coming from C_1 = 2.1132718305696898e-10\n",
      "Updated Probability of coming from C_2 = 0.9999999997886727\n",
      "\n",
      "Point =  4.7169103306029765\n",
      "Updated Probability of coming from C_1 = 0.9408216508426056\n",
      "Updated Probability of coming from C_2 = 0.059178349157394436\n",
      "\n",
      "Point =  5.387393660389889\n",
      "Updated Probability of coming from C_1 = 0.7543726426679248\n",
      "Updated Probability of coming from C_2 = 0.24562735733207514\n",
      "\n",
      "Point =  5.681175454963059\n",
      "Updated Probability of coming from C_1 = 0.31165582283278254\n",
      "Updated Probability of coming from C_2 = 0.6883441771672175\n",
      "\n",
      "Point =  4.94710791914487\n",
      "Updated Probability of coming from C_1 = 0.9327003042920401\n",
      "Updated Probability of coming from C_2 = 0.06729969570795988\n",
      "\n",
      "Point =  8.255927747743302\n",
      "Updated Probability of coming from C_1 = 7.0585800144113405e-22\n",
      "Updated Probability of coming from C_2 = 1.0\n",
      "\n"
     ]
    }
   ],
   "source": [
    "updated_prob_c0_x = []  # Updated P(C_0 | X_i)\n",
    "updated_prob_c1_x = []  # Updated P(C_1 | X_i)\n",
    "\n",
    "for p in data:\n",
    "    pdf_i = []\n",
    "    \n",
    "    for j in range(k):\n",
    "        # P(X_i | C_j)\n",
    "        pdf_i.append(norm.pdf(p, mean[j], var[j]))\n",
    "        \n",
    "    # P(X_i) = P(C_0) * P(X_i | C_0) + P(C_1) * P(X_i | C_1)\n",
    "    prob_x = prob_c[0] * pdf_i[0] + prob_c[1] * pdf_i[1]\n",
    "\n",
    "    # Updated P(C_j | X_i) = P(X_i | C_j) * P(C_j) / P(X_i)\n",
    "    updated_prob_c0_x.append(pdf_i[0] * prob_c[0] / prob_x)\n",
    "    updated_prob_c1_x.append(pdf_i[1] * prob_c[1] / prob_x)\n",
    "\n",
    "# Printing updated probabilities\n",
    "probs = zip(data, updated_prob_c0_x, updated_prob_c1_x)\n",
    "for p in probs:\n",
    "    print(\"Point = \", p[0])\n",
    "    print(\"Updated Probability of coming from C_1 = \" + str(p[1]))\n",
    "    print(\"Updated Probability of coming from C_2 = \" + str(p[2]))\n",
    "    print()\n"
   ]
  },
  {
   "cell_type": "markdown",
   "metadata": {},
   "source": []
  },
  {
   "cell_type": "markdown",
   "metadata": {},
   "source": [
    "h) Use `P(S_j | X_i)` to create a hard assignment - label each point as belonging to a specific cluster (0 or 1)"
   ]
  },
  {
   "cell_type": "code",
   "execution_count": 9,
   "metadata": {},
<<<<<<< HEAD
   "outputs": [
    {
     "name": "stdout",
     "output_type": "stream",
     "text": [
      "Data point 7.03436669521354 is assigned to Cluster 1\n",
      "Data point 9.770144563021795 is assigned to Cluster 1\n",
      "Data point 4.225675103785978 is assigned to Cluster 0\n",
      "Data point 3.9275862055429176 is assigned to Cluster 0\n",
      "Data point 7.1991922038436975 is assigned to Cluster 1\n",
      "Data point 4.7169103306029765 is assigned to Cluster 0\n",
      "Data point 5.387393660389889 is assigned to Cluster 0\n",
      "Data point 5.681175454963059 is assigned to Cluster 0\n",
      "Data point 4.94710791914487 is assigned to Cluster 0\n",
      "Data point 8.255927747743302 is assigned to Cluster 1\n"
     ]
    }
   ],
   "source": [
    "hard_assignments = [0 if prob_c0_x[i] > prob_c1_x[i] else 1 for i in range(len(data))]\n",
    "\n",
    "# Printing the hard assignments\n",
    "for i, label in enumerate(hard_assignments):\n",
    "    print(f\"Data point {data[i]} is assigned to Cluster {label}\")\n"
   ]
  },
  {
   "cell_type": "markdown",
   "metadata": {},
   "source": [
    "### Clustering Aggregation\n",
    "\n",
    "| Point | C | P |\n",
    "|-------|---|---|\n",
    "| A     | 0 | a |\n",
    "| B     | 0 | b |\n",
    "| C     | 2 | b |\n",
    "| D     | 1 | c |\n",
    "| E     | 1 | d |\n",
    "\n",
    "a) Fill in the following table where for each pair of points determine whether C and P agree or disagree on how to cluster that pair."
   ]
  },
  {
   "cell_type": "markdown",
   "metadata": {},
   "source": [
    "| Pair | Disagreement |\n",
    "|------|--------------|\n",
    "| A  B |      Agreement      |\n",
    "| A  C |      Disagreement       |\n",
    "| A  D |      Disagreement     |\n",
    "| A  E |      Disagreement     |\n",
    "| B  C |      Agreement      |\n",
    "| B  D |      Disagreement     |\n",
    "| B  E |      Disagreement     |\n",
    "| C  D |      Disagreement     |\n",
    "| C  E |      Disagreement     |\n",
    "| D  E |      Agreement      |\n"
   ]
  },
  {
   "cell_type": "markdown",
   "metadata": {},
   "source": [
    "As datasets become very large, this process can become computationally challenging.\n",
    "\n",
    "b) Given N points, what is the formula for the number of unique pairs of points one can create?"
   ]
  },
  {
   "cell_type": "markdown",
   "metadata": {},
   "source": [
    "Number of Pairs=(N chooses 2)\n",
    " \n",
    "\n"
   ]
  },
  {
   "cell_type": "markdown",
   "metadata": {},
   "source": [
    "Assume that clustering C clusters all points in the same cluster and clustering P clusters points as such:\n",
    "\n",
    "| Point | P |\n",
    "|-------|---|\n",
    "| A     | 0 |\n",
    "| B     | 0 |\n",
    "| C     | 0 |\n",
    "| D     | 1 |\n",
    "| E     | 1 |\n",
    "| F     | 2 |\n",
    "| G     | 2 |\n",
    "| H     | 2 |\n",
    "| I     | 2 |\n",
    "\n",
    "c) What is the maximum number of disagreements there could be for a dataset of this size? (use the formula from b)?"
   ]
  },
  {
   "cell_type": "markdown",
   "metadata": {},
   "source": [
    "To calculate the maximum number of disagreements, we can use the formula for the number of unique pairs of points (as discussed in part b). Given that there are 9 points in total (N = 9), we can calculate the number of disagreements:\n",
    "\n"
   ]
  },
  {
   "cell_type": "markdown",
   "metadata": {},
   "source": [
    "d) If we look at cluster 0. There are (3 x 2) / 2 = 3 pairs that agree with C (since all points in C are in the same cluster). For each cluster, determine how many agreements there are. How many total agreements are there? How many disagreements does that mean there are between C and P?"
   ]
  },
  {
   "cell_type": "markdown",
   "metadata": {},
   "source": [
    "Cluster 0 in P (A, B, C):\n",
    "\n",
    "Number of agreements: 3\n",
    "Number of disagreements: 0\n",
    "Cluster 1 in P (D, E):\n",
    "\n",
    "Number of agreements: 1\n",
    "Number of disagreements: 1\n",
    "Cluster 2 in P (F, G, H, I):\n",
    "\n",
    "Number of agreements: 6\n",
    "Number of disagreements: -2\n",
    "Total agreements: 10\n",
    "Total disagreements: 1"
   ]
  },
  {
   "cell_type": "markdown",
   "metadata": {},
   "source": [
    "e) Assuming that filtering the dataset by cluster number is a computationally easy operation, describe an algorithm inspired by the above process that can efficiently compute disagreement distances on large datasets."
   ]
  },
  {
   "cell_type": "markdown",
   "metadata": {},
   "source": [
    "For efficient computation of disagreement distances on large datasets, cluster the data, assign unique cluster identifiers, filter data for each cluster, and calculate agreements and disagreements within clusters. Sum these values across all clusters to determine total agreements and disagreements for the entire dataset. This approach optimizes efficiency by leveraging the clustered data's structure, reducing the need for exhaustive pairwise comparisons, making it suitable for large datasets.\n"
   ]
=======
   "outputs": [],
   "source": []
>>>>>>> a77c54ccf8c7aab26abde14c4b3abddcf28d0d53
  }
 ],
 "metadata": {
  "kernelspec": {
   "display_name": "Python 3",
   "language": "python",
   "name": "python3"
  },
  "language_info": {
   "codemirror_mode": {
    "name": "ipython",
    "version": 3
   },
   "file_extension": ".py",
   "mimetype": "text/x-python",
   "name": "python",
   "nbconvert_exporter": "python",
   "pygments_lexer": "ipython3",
   "version": "3.8.8"
  },
  "orig_nbformat": 4,
  "vscode": {
   "interpreter": {
    "hash": "e7370f93d1d0cde622a1f8e1c04877d8463912d04d973331ad4851f04de6915a"
   }
  }
 },
 "nbformat": 4,
 "nbformat_minor": 2
}
